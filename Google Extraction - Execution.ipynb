{
 "cells": [
  {
   "cell_type": "code",
   "execution_count": 1,
   "metadata": {
    "collapsed": true
   },
   "outputs": [],
   "source": [
    "from os import listdir\n",
    "from os.path import isfile, join\n",
    "import json\n",
    "import pandas as pd\n",
    "import numpy as np"
   ]
  },
  {
   "cell_type": "code",
   "execution_count": 2,
   "metadata": {
    "collapsed": true
   },
   "outputs": [],
   "source": [
    "%run 'Map Extraction - Functions.ipynb'"
   ]
  },
  {
   "cell_type": "code",
   "execution_count": 3,
   "metadata": {
    "collapsed": false
   },
   "outputs": [],
   "source": [
    "GOOGLE_DIRECTORY = \"/media/host_data/lions/google/\"\n",
    "WRITE_DIRECTORY = \"/media/host_data/lions/\""
   ]
  },
  {
   "cell_type": "code",
   "execution_count": 4,
   "metadata": {
    "collapsed": false
   },
   "outputs": [],
   "source": [
    "nb_files = [ f for f in listdir(GOOGLE_DIRECTORY + 'northbound' + '/') if isfile(join(GOOGLE_DIRECTORY + 'northbound' + '/',f)) ]\n",
    "sb_files = [ f for f in listdir(GOOGLE_DIRECTORY + 'southbound' + '/') if isfile(join(GOOGLE_DIRECTORY + 'southbound' + '/',f)) ]"
   ]
  },
  {
   "cell_type": "markdown",
   "metadata": {},
   "source": [
    "# Checks"
   ]
  },
  {
   "cell_type": "code",
   "execution_count": 6,
   "metadata": {
    "collapsed": false
   },
   "outputs": [],
   "source": [
    "# Check for multiple-route responses\n",
    "for f in nb_files:\n",
    "    with open(GOOGLE_DIRECTORY + 'northbound' + '/' + f) as json_file:\n",
    "        data = json.load(json_file)\n",
    "        if len(data['routes']) > 1:\n",
    "            print(f)\n",
    "for f in sb_files:\n",
    "    with open(GOOGLE_DIRECTORY + 'southbound' + '/' + f) as json_file:\n",
    "        data = json.load(json_file)\n",
    "        if len(data['routes']) > 1:\n",
    "            print(f)"
   ]
  },
  {
   "cell_type": "code",
   "execution_count": 7,
   "metadata": {
    "collapsed": true
   },
   "outputs": [],
   "source": [
    "# Check for multiple-leg responses\n",
    "for f in nb_files:\n",
    "    with open(GOOGLE_DIRECTORY + 'northbound' + '/' + f) as json_file:\n",
    "        data = json.load(json_file)\n",
    "        if len(data['routes'][0]['legs']) > 1:\n",
    "            print(f)\n",
    "for f in sb_files:\n",
    "    with open(GOOGLE_DIRECTORY + 'southbound' + '/' + f) as json_file:\n",
    "        data = json.load(json_file)\n",
    "        if len(data['routes'][0]['legs']) > 1:\n",
    "            print(f)"
   ]
  },
  {
   "cell_type": "markdown",
   "metadata": {},
   "source": [
    "# Run"
   ]
  },
  {
   "cell_type": "code",
   "execution_count": 8,
   "metadata": {
    "collapsed": false
   },
   "outputs": [],
   "source": [
    "northbound_durations = np.zeros(len(nb_files))\n",
    "southbound_durations = np.zeros(len(sb_files))"
   ]
  },
  {
   "cell_type": "code",
   "execution_count": 14,
   "metadata": {
    "collapsed": false
   },
   "outputs": [],
   "source": [
    "nb_times =  [get_vancouver_datetime_from_filename(f, suffix='.json') for f in nb_files]\n",
    "sb_times = [get_vancouver_datetime_from_filename(f, suffix='.json') for f in sb_files]"
   ]
  },
  {
   "cell_type": "code",
   "execution_count": 15,
   "metadata": {
    "collapsed": false
   },
   "outputs": [],
   "source": [
    "for idx, f in enumerate(nb_files):\n",
    "    with open(GOOGLE_DIRECTORY + 'northbound' + '/' + f) as json_file:\n",
    "        data = json.load(json_file)\n",
    "        if 'duration_in_traffic' in data['routes'][0]['legs'][0].keys():\n",
    "            northbound_durations[idx] = data['routes'][0]['legs'][0]['duration_in_traffic']['value']"
   ]
  },
  {
   "cell_type": "code",
   "execution_count": 19,
   "metadata": {
    "collapsed": true
   },
   "outputs": [],
   "source": [
    "for idx, f in enumerate(sb_files):\n",
    "    with open(GOOGLE_DIRECTORY + 'southbound' + '/' + f) as json_file:\n",
    "        data = json.load(json_file)\n",
    "        if 'duration_in_traffic' in data['routes'][0]['legs'][0].keys():\n",
    "            southbound_durations[idx] = data['routes'][0]['legs'][0]['duration_in_traffic']['value']"
   ]
  },
  {
   "cell_type": "code",
   "execution_count": 20,
   "metadata": {
    "collapsed": true
   },
   "outputs": [],
   "source": [
    "df_northbound = pd.DataFrame({'time':nb_times,'duration':northbound_durations})\n",
    "df_southbound = pd.DataFrame({'time':sb_times,'duration':southbound_durations})"
   ]
  },
  {
   "cell_type": "code",
   "execution_count": 21,
   "metadata": {
    "collapsed": true
   },
   "outputs": [],
   "source": [
    "df_northbound.set_index('time', inplace=True)\n",
    "df_southbound.set_index('time', inplace=True)"
   ]
  },
  {
   "cell_type": "code",
   "execution_count": 22,
   "metadata": {
    "collapsed": true
   },
   "outputs": [],
   "source": [
    "df_northbound.sort_index(inplace=True)\n",
    "df_southbound.sort_index(inplace=True)"
   ]
  },
  {
   "cell_type": "code",
   "execution_count": 23,
   "metadata": {
    "collapsed": true
   },
   "outputs": [],
   "source": [
    "df_northbound.to_csv(WRITE_DIRECTORY + 'google_northbound.csv')\n",
    "df_southbound.to_csv(WRITE_DIRECTORY + 'google_southbound.csv')"
   ]
  }
 ],
 "metadata": {
  "anaconda-cloud": {},
  "kernelspec": {
   "display_name": "Python [Root]",
   "language": "python",
   "name": "Python [Root]"
  },
  "language_info": {
   "codemirror_mode": {
    "name": "ipython",
    "version": 3
   },
   "file_extension": ".py",
   "mimetype": "text/x-python",
   "name": "python",
   "nbconvert_exporter": "python",
   "pygments_lexer": "ipython3",
   "version": "3.5.2"
  }
 },
 "nbformat": 4,
 "nbformat_minor": 0
}
