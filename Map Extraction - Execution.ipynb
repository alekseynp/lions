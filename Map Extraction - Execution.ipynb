{
 "cells": [
  {
   "cell_type": "code",
   "execution_count": null,
   "metadata": {
    "collapsed": false
   },
   "outputs": [],
   "source": [
    "from os import listdir\n",
    "from os.path import isfile, join\n",
    "from PIL import Image\n",
    "import pandas as pd"
   ]
  },
  {
   "cell_type": "code",
   "execution_count": null,
   "metadata": {
    "collapsed": true
   },
   "outputs": [],
   "source": [
    "%run 'Map Extraction - Functions.ipynb'"
   ]
  },
  {
   "cell_type": "code",
   "execution_count": null,
   "metadata": {
    "collapsed": true
   },
   "outputs": [],
   "source": [
    "MAP_DIRECTORY = \"/media/host_data/lions/map/\"\n",
    "WRITE_DIRECTORY = \"/media/host_data/lions/\""
   ]
  },
  {
   "cell_type": "code",
   "execution_count": null,
   "metadata": {
    "collapsed": false
   },
   "outputs": [],
   "source": [
    "files = [ f for f in listdir(MAP_DIRECTORY) if isfile(join(MAP_DIRECTORY,f)) ]"
   ]
  },
  {
   "cell_type": "code",
   "execution_count": null,
   "metadata": {
    "collapsed": true
   },
   "outputs": [],
   "source": [
    "times = [get_vancouver_datetime_from_filename(f) for f in files]"
   ]
  },
  {
   "cell_type": "code",
   "execution_count": null,
   "metadata": {
    "collapsed": false
   },
   "outputs": [],
   "source": [
    "lanes = [[],[],[]]\n",
    "segs = [[],[],[],[],[],[],[],[]]\n",
    "for f in files:\n",
    "    img = Image.open(MAP_DIRECTORY + f).convert('RGB')\n",
    "    # Image Unavailable is a different size so we can filter them out\n",
    "    if img.size != (352, 240):\n",
    "        data = get_img_data(img)\n",
    "        lanes[0].append(data['lane1'])\n",
    "        lanes[1].append(data['lane2'])\n",
    "        lanes[2].append(data['lane3'])\n",
    "        for idx, s in enumerate(data['segs']):\n",
    "            segs[idx].append(s)\n",
    "    else:\n",
    "        times.remove(get_vancouver_datetime_from_filename(f))"
   ]
  },
  {
   "cell_type": "code",
   "execution_count": null,
   "metadata": {
    "collapsed": false
   },
   "outputs": [],
   "source": [
    "df = pd.DataFrame({'time':times, 'lane1':lanes[0], 'lane2':lanes[1], 'lane3':lanes[2], 'seg1': segs[0], 'seg2': segs[1], 'seg3': segs[2], 'seg4': segs[3], 'seg5': segs[4], 'seg6': segs[5], 'seg7': segs[6], 'seg8': segs[7]})\n",
    "df.set_index('time', inplace=True)"
   ]
  },
  {
   "cell_type": "code",
   "execution_count": null,
   "metadata": {
    "collapsed": true
   },
   "outputs": [],
   "source": [
    "df.sort_index(inplace=True)"
   ]
  },
  {
   "cell_type": "code",
   "execution_count": null,
   "metadata": {
    "collapsed": false
   },
   "outputs": [],
   "source": [
    "df.to_csv(WRITE_DIRECTORY + 'map.csv')"
   ]
  }
 ],
 "metadata": {
  "anaconda-cloud": {},
  "kernelspec": {
   "display_name": "Python [Root]",
   "language": "python",
   "name": "Python [Root]"
  },
  "language_info": {
   "codemirror_mode": {
    "name": "ipython",
    "version": 3
   },
   "file_extension": ".py",
   "mimetype": "text/x-python",
   "name": "python",
   "nbconvert_exporter": "python",
   "pygments_lexer": "ipython3",
   "version": "3.5.2"
  }
 },
 "nbformat": 4,
 "nbformat_minor": 0
}
