{
 "cells": [
  {
   "cell_type": "code",
   "execution_count": null,
   "metadata": {
    "collapsed": true
   },
   "outputs": [],
   "source": [
    "import datetime\n",
    "import pytz\n",
    "import math"
   ]
  },
  {
   "cell_type": "code",
   "execution_count": null,
   "metadata": {
    "collapsed": true
   },
   "outputs": [],
   "source": [
    "# Returns the distance in RGB space between two pixels\n",
    "# Is used by other functions to do fuzzy matching on pixel colors\n",
    "# Because of the image compression, pixel values are not reliably exactly equal to what we are looking for\n",
    "def get_px_dist(px1, px2):\n",
    "    d2r = math.pow(px1[0]-px2[0],2)\n",
    "    d2g = math.pow(px1[1]-px2[1],2)\n",
    "    d2b = math.pow(px1[2]-px2[2],2)\n",
    "    return math.sqrt(d2r+d2g+d2b)"
   ]
  },
  {
   "cell_type": "code",
   "execution_count": null,
   "metadata": {
    "collapsed": true
   },
   "outputs": [],
   "source": [
    "# Gets the lane status for lane 1 from a map gif image\n",
    "# All examples we have so far are of 'down', but we give ourselves a chance\n",
    "# to catch an error by checking if pixel 119,265 is near what we are looking for\n",
    "def get_lane1(img):\n",
    "    px = img.getpixel((119,265))\n",
    "    if get_px_dist(px,(112,114,110)) > 17: # In practice 16 is seems the maximum variation\n",
    "        return 'FAIL'\n",
    "    else:\n",
    "        return 'down'"
   ]
  },
  {
   "cell_type": "code",
   "execution_count": null,
   "metadata": {
    "collapsed": true
   },
   "outputs": [],
   "source": [
    "# Gets the lane status for lane 2 from a map gif image\n",
    "# Late 2 changes a lot and we can check pixel values for down, up, and x (closed)\n",
    "# If for some reason none of these match, 'FAIL' is returned to give us a chance ot catch the error\n",
    "def get_lane2(img):\n",
    "    px = img.getpixel((135,272)) # One pixel that varies for all three states\n",
    "    if get_px_dist(px,(1,1,1)) < 17:\n",
    "        return 'down'\n",
    "    elif get_px_dist(px,(237,240,233)) < 17: # In practice 16 is seems the maximum variation\n",
    "        return 'up'\n",
    "    elif get_px_dist(px,(211,64,54)) < 17: # In practice 16 is seems the maximum variation\n",
    "        return 'x'\n",
    "    else:\n",
    "        return 'FAIL'"
   ]
  },
  {
   "cell_type": "code",
   "execution_count": null,
   "metadata": {
    "collapsed": true
   },
   "outputs": [],
   "source": [
    "# Gets the lane status for lane 3 from a map gif image\n",
    "# All examples we have so far are of 'up', but we give ourselves a chance\n",
    "# to catch an error by checking if pixel 149,281 is near what we are looking for\n",
    "def get_lane3(img):\n",
    "    px = img.getpixel((149,281))\n",
    "    if get_px_dist(px,(53,62,64)) > 17:# In practice 16 is seems the maximum variation\n",
    "        return 'FAIL'\n",
    "    else:\n",
    "        return 'up'"
   ]
  },
  {
   "cell_type": "code",
   "execution_count": null,
   "metadata": {
    "collapsed": true
   },
   "outputs": [],
   "source": [
    "# Given a pixel, returns if it is 'r' red, 'g' green or 'grey' grey\n",
    "# If for some reason it is none, it returns a 'FAIL'\n",
    "# This is used by the segment checking code\n",
    "def get_color(px):\n",
    "    if get_px_dist(px,(255,0,0)) < 17:# In practice 16 is seems the maximum variation\n",
    "        return 'r'\n",
    "    elif get_px_dist(px,(47,160,71)) < 17:# In practice 16 is seems the maximum variation\n",
    "        return 'g'\n",
    "    elif get_px_dist(px,(152,153,151)) < 17:# In practice 16 is seems the maximum variation\n",
    "        return 'grey'\n",
    "    else:\n",
    "        return 'FAIL'"
   ]
  },
  {
   "cell_type": "code",
   "execution_count": null,
   "metadata": {
    "collapsed": true
   },
   "outputs": [],
   "source": [
    "# Given an image, returns the colour state of the 8 segments based on pixel values\n",
    "def get_segs(img):\n",
    "    segment_coords = [\n",
    "        (119, 104),\n",
    "        (139,153),\n",
    "        (139,184),\n",
    "        (139,195),\n",
    "        (82,278),\n",
    "        (82,289),\n",
    "        (74,389),\n",
    "        (97,399),\n",
    "    ]\n",
    "    \n",
    "    segs = []\n",
    "    for sc in segment_coords:\n",
    "        segs.append(get_color(img.getpixel(sc)))\n",
    "    return segs"
   ]
  },
  {
   "cell_type": "code",
   "execution_count": null,
   "metadata": {
    "collapsed": true
   },
   "outputs": [],
   "source": [
    "# Given an image, returns the data for the lanes and segment congestions\n",
    "def get_img_data(img):\n",
    "    data = {}\n",
    "    data['lane1'] = get_lane1(img)\n",
    "    data['lane2'] = get_lane2(img)\n",
    "    data['lane3'] = get_lane3(img)\n",
    "    data['segs'] = get_segs(img)\n",
    "    return data"
   ]
  },
  {
   "cell_type": "code",
   "execution_count": null,
   "metadata": {
    "collapsed": true
   },
   "outputs": [],
   "source": [
    "# Gets a datetime object from the filename\n",
    "def get_vancouver_datetime_from_filename(filename,suffix='.gif'):\n",
    "    t = datetime.datetime.strptime(filename[0:-len(suffix)],\"%Y%m%d%H%M%S\")\n",
    "    t = t.replace(tzinfo=pytz.timezone('UTC'))\n",
    "    return t.astimezone(pytz.timezone('America/Vancouver'))"
   ]
  }
 ],
 "metadata": {
  "kernelspec": {
   "display_name": "Python [Root]",
   "language": "python",
   "name": "Python [Root]"
  },
  "language_info": {
   "codemirror_mode": {
    "name": "ipython",
    "version": 3
   },
   "file_extension": ".py",
   "mimetype": "text/x-python",
   "name": "python",
   "nbconvert_exporter": "python",
   "pygments_lexer": "ipython3",
   "version": "3.5.2"
  }
 },
 "nbformat": 4,
 "nbformat_minor": 0
}
