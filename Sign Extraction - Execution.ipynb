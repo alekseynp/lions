{
 "cells": [
  {
   "cell_type": "code",
   "execution_count": null,
   "metadata": {
    "collapsed": true
   },
   "outputs": [],
   "source": [
    "from PIL import Image\n",
    "import numpy\n",
    "from os import listdir\n",
    "from os.path import isfile, join\n",
    "import pandas as pd\n",
    "import numpy as np"
   ]
  },
  {
   "cell_type": "code",
   "execution_count": null,
   "metadata": {
    "collapsed": true
   },
   "outputs": [],
   "source": [
    "%run 'Map Extraction - Functions.ipynb'"
   ]
  },
  {
   "cell_type": "code",
   "execution_count": null,
   "metadata": {
    "collapsed": true
   },
   "outputs": [],
   "source": [
    "DATA_COMPUTED_DIRECTORY = \"/media/host_data/lions/\"\n",
    "SIGN_DIRECTORY = \"/media/host_data/lions/sign/\"\n",
    "REFERENCE_DIRECTORY = \"/media/host_data/lions/test/sign/ref/\"\n",
    "TEST_DIRECTORY = \"/media/host_data/lions/test/sign/\"\n",
    "WRITE_DIRECTORY = \"/media/host_data/lions/\""
   ]
  },
  {
   "cell_type": "code",
   "execution_count": null,
   "metadata": {
    "collapsed": false
   },
   "outputs": [],
   "source": [
    "def signCompare(img1, img2):\n",
    "    for x in range(120,132):\n",
    "        for y in range(64,92):\n",
    "            if(img1[y*320+x] != img2[y*320+x]):\n",
    "                return False\n",
    "    #for x in range(108,194):\n",
    "    #    for y in range(84,91):\n",
    "    #        if(img1[y*320+x] != img2[y*320+x]):\n",
    "    #            return False\n",
    "    return True"
   ]
  },
  {
   "cell_type": "code",
   "execution_count": null,
   "metadata": {
    "collapsed": true
   },
   "outputs": [],
   "source": [
    "def file_to_img_array(file):\n",
    "    img = Image.open(file)\n",
    "    img = img.convert('L')\n",
    "    img = list(img.getdata())\n",
    "    img = numpy.array(img)\n",
    "    s = img.shape[0]\n",
    "    img_wide = img.reshape(1,s)\n",
    "    img = img_wide[0]\n",
    "    return img"
   ]
  },
  {
   "cell_type": "code",
   "execution_count": null,
   "metadata": {
    "collapsed": false
   },
   "outputs": [],
   "source": [
    "Unavailable = file_to_img_array(REFERENCE_DIRECTORY + \"Unavailable.gif\")\n",
    "AlsoUnavailable = file_to_img_array(REFERENCE_DIRECTORY + \"AlsoUnavailable.gif\")\n",
    "ImageUnavailable = file_to_img_array(REFERENCE_DIRECTORY + \"ImageUnavailable.gif\")\n",
    "SpecialEvent = file_to_img_array(REFERENCE_DIRECTORY + \"SpecialEvent.gif\")\n",
    "comparers = {}\n",
    "comparables = [0,2,5,10,15,20,25,30,40,50,60,90,120,150]\n",
    "\n",
    "for m in comparables:\n",
    "    comparers[m] = file_to_img_array(REFERENCE_DIRECTORY + str(m) + \".gif\")"
   ]
  },
  {
   "cell_type": "code",
   "execution_count": null,
   "metadata": {
    "collapsed": false
   },
   "outputs": [],
   "source": [
    "#Tests\n",
    "for t in [0, 5, 10, 15, 20, 25, 30, 40]:\n",
    "    test_img = file_to_img_array(TEST_DIRECTORY + str(t) + '.gif')\n",
    "    print(signCompare(test_img, comparers[t]))"
   ]
  },
  {
   "cell_type": "code",
   "execution_count": null,
   "metadata": {
    "collapsed": true
   },
   "outputs": [],
   "source": [
    "files = [ f for f in listdir(SIGN_DIRECTORY) if isfile(join(SIGN_DIRECTORY,f)) ]"
   ]
  },
  {
   "cell_type": "code",
   "execution_count": null,
   "metadata": {
    "collapsed": false
   },
   "outputs": [],
   "source": [
    "len(files)"
   ]
  },
  {
   "cell_type": "code",
   "execution_count": null,
   "metadata": {
    "collapsed": false
   },
   "outputs": [],
   "source": [
    "delays = np.zeros(len(files))"
   ]
  },
  {
   "cell_type": "code",
   "execution_count": null,
   "metadata": {
    "collapsed": false
   },
   "outputs": [],
   "source": [
    "for idx, f in enumerate(files):\n",
    "    fimg = file_to_img_array(SIGN_DIRECTORY + f)\n",
    "    match = False\n",
    "    if not (signCompare(fimg,Unavailable) or signCompare(fimg,AlsoUnavailable)or signCompare(fimg,ImageUnavailable)or signCompare(fimg,SpecialEvent)):\n",
    "        for m in comparables:\n",
    "            if signCompare(fimg,comparers[m]):\n",
    "                delays[idx] = m"
   ]
  },
  {
   "cell_type": "code",
   "execution_count": null,
   "metadata": {
    "collapsed": false
   },
   "outputs": [],
   "source": [
    "times = [get_vancouver_datetime_from_filename(f) for f in files]"
   ]
  },
  {
   "cell_type": "code",
   "execution_count": null,
   "metadata": {
    "collapsed": true
   },
   "outputs": [],
   "source": [
    "df = pd.DataFrame({'time':times, 'delay':delays})\n",
    "df.set_index('time', inplace=True)"
   ]
  },
  {
   "cell_type": "code",
   "execution_count": null,
   "metadata": {
    "collapsed": true
   },
   "outputs": [],
   "source": [
    "df.sort_index(inplace=True)"
   ]
  },
  {
   "cell_type": "code",
   "execution_count": null,
   "metadata": {
    "collapsed": false
   },
   "outputs": [],
   "source": [
    "df.to_csv(WRITE_DIRECTORY + 'sign.csv')"
   ]
  }
 ],
 "metadata": {
  "anaconda-cloud": {},
  "kernelspec": {
   "display_name": "Python [Root]",
   "language": "python",
   "name": "Python [Root]"
  },
  "language_info": {
   "codemirror_mode": {
    "name": "ipython",
    "version": 3
   },
   "file_extension": ".py",
   "mimetype": "text/x-python",
   "name": "python",
   "nbconvert_exporter": "python",
   "pygments_lexer": "ipython3",
   "version": "3.5.2"
  }
 },
 "nbformat": 4,
 "nbformat_minor": 0
}
